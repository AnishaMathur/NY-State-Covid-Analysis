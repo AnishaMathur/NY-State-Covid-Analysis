{
  "cells": [
    {
      "cell_type": "markdown",
      "metadata": {
        "id": "Qz8wjNgai62u"
      },
      "source": [
        "# NY Population Data Scraping"
      ]
    },
    {
      "cell_type": "code",
      "execution_count": 1,
      "metadata": {
        "id": "PVmTUIevi623"
      },
      "outputs": [],
      "source": [
        "# import statements\n",
        "\n",
        "import urllib.request\n",
        "import pandas as pd\n",
        "import re\n",
        "from bs4 import BeautifulSoup\n",
        "from glob import glob"
      ]
    },
    {
      "cell_type": "code",
      "execution_count": 2,
      "metadata": {},
      "outputs": [
        {
          "data": {
            "text/plain": [
              "('ny_population.html', <http.client.HTTPMessage at 0x1042df220>)"
            ]
          },
          "execution_count": 2,
          "metadata": {},
          "output_type": "execute_result"
        }
      ],
      "source": [
        "# Save webpage\n",
        "\n",
        "page_link = 'https://www.newyork-demographics.com/cities_by_population'\n",
        "urllib.request.urlretrieve(page_link, 'ny_population.html')"
      ]
    },
    {
      "cell_type": "code",
      "execution_count": 3,
      "metadata": {},
      "outputs": [],
      "source": [
        "# Extract data from the webpage\n",
        "\n",
        "with open('ny_population.html') as file_path:\n",
        "    soup = BeautifulSoup(file_path, 'html.parser')\n",
        "\n",
        "population_df = [['Rank', 'City', 'Population']]\n",
        "\n",
        "population_table = soup.find('table', attrs = {'class', 'ranklist'})\n",
        "\n",
        "for row in population_table.findAll('tr')[1:-1]:\n",
        "    rows = []\n",
        "    cells = row.findAll('td')\n",
        "    rank = cells[0].text.replace('TIE','').replace(' ','').strip()\n",
        "    rows.append(rank)\n",
        "    rows.append(cells[1].text.strip())\n",
        "    rows.append(cells[2].text.strip())\n",
        "    population_df.append(rows)\n",
        "\n",
        "population_df = pd.DataFrame(population_df)\n",
        "\n",
        "population_df.to_csv('NY_population_distribution.csv', header=False, index=False)\n",
        "        "
      ]
    }
  ],
  "metadata": {
    "colab": {
      "collapsed_sections": [],
      "name": "A1-1.ipynb",
      "provenance": []
    },
    "kernelspec": {
      "display_name": "Python 3 (ipykernel)",
      "language": "python",
      "name": "python3"
    },
    "language_info": {
      "codemirror_mode": {
        "name": "ipython",
        "version": 3
      },
      "file_extension": ".py",
      "mimetype": "text/x-python",
      "name": "python",
      "nbconvert_exporter": "python",
      "pygments_lexer": "ipython3",
      "version": "3.8.9"
    }
  },
  "nbformat": 4,
  "nbformat_minor": 0
}
